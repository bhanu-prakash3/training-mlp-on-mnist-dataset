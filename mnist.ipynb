{
  "nbformat": 4,
  "nbformat_minor": 0,
  "metadata": {
    "colab": {
      "name": "mnist.ipynb",
      "version": "0.3.2",
      "provenance": []
    },
    "kernelspec": {
      "name": "python3",
      "display_name": "Python 3"
    }
  },
  "cells": [
    {
      "cell_type": "markdown",
      "metadata": {
        "id": "tCdKj8a8Uxo3",
        "colab_type": "text"
      },
      "source": [
        "# MLP - MNIST **DATASET**"
      ]
    },
    {
      "cell_type": "code",
      "metadata": {
        "id": "jZ1eYb8YTG7p",
        "colab_type": "code",
        "colab": {}
      },
      "source": [
        "from keras.utils import np_utils \n",
        "from keras.datasets import mnist \n",
        "import seaborn as sns\n",
        "from keras.initializers import RandomNormal\n",
        "import matplotlib.pyplot as plt\n"
      ],
      "execution_count": 0,
      "outputs": []
    },
    {
      "cell_type": "code",
      "metadata": {
        "id": "plXSQWi7TT7i",
        "colab_type": "code",
        "colab": {}
      },
      "source": [
        "%matplotlib notebook\n",
        "import matplotlib.pyplot as plt\n",
        "import numpy as np\n",
        "import time\n",
        "def plt_dynamic(x, vy, ty, ax, colors=['b']):\n",
        "    ax.plot(x, vy, 'b', label=\"Validation Loss\")\n",
        "    ax.plot(x, ty, 'r', label=\"Train Loss\")\n",
        "    plt.legend()\n",
        "    plt.grid()\n",
        "    fig.canvas.draw()"
      ],
      "execution_count": 0,
      "outputs": []
    },
    {
      "cell_type": "code",
      "metadata": {
        "id": "GeSu0vjuTZFu",
        "colab_type": "code",
        "colab": {
          "base_uri": "https://localhost:8080/",
          "height": 52
        },
        "outputId": "1e5a1cc0-31a7-4935-ccde-2eb59568df93"
      },
      "source": [
        "(X_train, y_train), (X_test, y_test) = mnist.load_data()"
      ],
      "execution_count": 2,
      "outputs": [
        {
          "output_type": "stream",
          "text": [
            "Downloading data from https://s3.amazonaws.com/img-datasets/mnist.npz\n",
            "11493376/11490434 [==============================] - 0s 0us/step\n"
          ],
          "name": "stdout"
        }
      ]
    },
    {
      "cell_type": "code",
      "metadata": {
        "id": "USyJvw49Tbmb",
        "colab_type": "code",
        "colab": {}
      },
      "source": [
        "X_train = X_train.reshape(X_train.shape[0], X_train.shape[1]*X_train.shape[2]) \n",
        "X_test = X_test.reshape(X_test.shape[0], X_test.shape[1]*X_test.shape[2]) "
      ],
      "execution_count": 0,
      "outputs": []
    },
    {
      "cell_type": "code",
      "metadata": {
        "id": "Pzc5Q_6lTgk9",
        "colab_type": "code",
        "colab": {}
      },
      "source": [
        "X_train = X_train/255\n",
        "X_test = X_test/255"
      ],
      "execution_count": 0,
      "outputs": []
    },
    {
      "cell_type": "code",
      "metadata": {
        "id": "2SdagJtPTkYy",
        "colab_type": "code",
        "colab": {}
      },
      "source": [
        "Y_train = np_utils.to_categorical(y_train, 10) \n",
        "Y_test = np_utils.to_categorical(y_test, 10)"
      ],
      "execution_count": 0,
      "outputs": []
    },
    {
      "cell_type": "code",
      "metadata": {
        "id": "K2dGa6QaTnsl",
        "colab_type": "code",
        "colab": {}
      },
      "source": [
        ""
      ],
      "execution_count": 0,
      "outputs": []
    },
    {
      "cell_type": "markdown",
      "metadata": {
        "id": "Hzxg1M3qHV-O",
        "colab_type": "text"
      },
      "source": [
        "## Adding Batch Normalization and Dropout to our Neural Network which consist of 5 hidden layers"
      ]
    },
    {
      "cell_type": "code",
      "metadata": {
        "id": "5X0-SJZCTvU4",
        "colab_type": "code",
        "colab": {}
      },
      "source": [
        "output_dim = 10\n",
        "input_dim = X_train.shape[1]\n",
        "batch_size = 128 \n",
        "nb_epoch = 20"
      ],
      "execution_count": 0,
      "outputs": []
    },
    {
      "cell_type": "code",
      "metadata": {
        "id": "-3WKNa2vHKZR",
        "colab_type": "code",
        "outputId": "1b8e0583-3a71-4af0-f8cc-d397db6ebefd",
        "colab": {
          "base_uri": "https://localhost:8080/",
          "height": 923
        }
      },
      "source": [
        "from keras.models import Sequential \n",
        "from keras.layers import Dense, Activation \n",
        "from keras.layers.normalization import BatchNormalization\n",
        "from keras.layers import Dropout\n",
        "model = Sequential()\n",
        "model.add(Dense(630, input_shape = (input_dim,), activation = 'sigmoid'))\n",
        "model.add(BatchNormalization())\n",
        "model.add(Dropout(0.5))\n",
        "model.add(Dense(510, activation = 'sigmoid'))\n",
        "model.add(BatchNormalization())\n",
        "model.add(Dropout(0.5))\n",
        "model.add(Dense(390, activation = 'sigmoid'))\n",
        "model.add(BatchNormalization())\n",
        "model.add(Dropout(0.5))\n",
        "model.add(Dense(210, activation = 'sigmoid'))\n",
        "model.add(BatchNormalization())\n",
        "model.add(Dropout(0.5))\n",
        "model.add(Dense(110, activation = 'sigmoid'))\n",
        "model.add(BatchNormalization())\n",
        "model.add(Dropout(0.5))\n",
        "model.add(Dense(output_dim, activation='softmax'))\n",
        "\n",
        "model.summary()"
      ],
      "execution_count": 7,
      "outputs": [
        {
          "output_type": "stream",
          "text": [
            "WARNING: Logging before flag parsing goes to stderr.\n",
            "W0817 11:21:43.904909 140225311647616 deprecation_wrapper.py:119] From /usr/local/lib/python3.6/dist-packages/keras/backend/tensorflow_backend.py:74: The name tf.get_default_graph is deprecated. Please use tf.compat.v1.get_default_graph instead.\n",
            "\n",
            "W0817 11:21:43.954204 140225311647616 deprecation_wrapper.py:119] From /usr/local/lib/python3.6/dist-packages/keras/backend/tensorflow_backend.py:517: The name tf.placeholder is deprecated. Please use tf.compat.v1.placeholder instead.\n",
            "\n",
            "W0817 11:21:43.962996 140225311647616 deprecation_wrapper.py:119] From /usr/local/lib/python3.6/dist-packages/keras/backend/tensorflow_backend.py:4138: The name tf.random_uniform is deprecated. Please use tf.random.uniform instead.\n",
            "\n",
            "W0817 11:21:44.220430 140225311647616 deprecation_wrapper.py:119] From /usr/local/lib/python3.6/dist-packages/keras/backend/tensorflow_backend.py:133: The name tf.placeholder_with_default is deprecated. Please use tf.compat.v1.placeholder_with_default instead.\n",
            "\n",
            "W0817 11:21:44.249758 140225311647616 deprecation.py:506] From /usr/local/lib/python3.6/dist-packages/keras/backend/tensorflow_backend.py:3445: calling dropout (from tensorflow.python.ops.nn_ops) with keep_prob is deprecated and will be removed in a future version.\n",
            "Instructions for updating:\n",
            "Please use `rate` instead of `keep_prob`. Rate should be set to `rate = 1 - keep_prob`.\n"
          ],
          "name": "stderr"
        },
        {
          "output_type": "stream",
          "text": [
            "_________________________________________________________________\n",
            "Layer (type)                 Output Shape              Param #   \n",
            "=================================================================\n",
            "dense_1 (Dense)              (None, 630)               494550    \n",
            "_________________________________________________________________\n",
            "batch_normalization_1 (Batch (None, 630)               2520      \n",
            "_________________________________________________________________\n",
            "dropout_1 (Dropout)          (None, 630)               0         \n",
            "_________________________________________________________________\n",
            "dense_2 (Dense)              (None, 510)               321810    \n",
            "_________________________________________________________________\n",
            "batch_normalization_2 (Batch (None, 510)               2040      \n",
            "_________________________________________________________________\n",
            "dropout_2 (Dropout)          (None, 510)               0         \n",
            "_________________________________________________________________\n",
            "dense_3 (Dense)              (None, 390)               199290    \n",
            "_________________________________________________________________\n",
            "batch_normalization_3 (Batch (None, 390)               1560      \n",
            "_________________________________________________________________\n",
            "dropout_3 (Dropout)          (None, 390)               0         \n",
            "_________________________________________________________________\n",
            "dense_4 (Dense)              (None, 210)               82110     \n",
            "_________________________________________________________________\n",
            "batch_normalization_4 (Batch (None, 210)               840       \n",
            "_________________________________________________________________\n",
            "dropout_4 (Dropout)          (None, 210)               0         \n",
            "_________________________________________________________________\n",
            "dense_5 (Dense)              (None, 110)               23210     \n",
            "_________________________________________________________________\n",
            "batch_normalization_5 (Batch (None, 110)               440       \n",
            "_________________________________________________________________\n",
            "dropout_5 (Dropout)          (None, 110)               0         \n",
            "_________________________________________________________________\n",
            "dense_6 (Dense)              (None, 10)                1110      \n",
            "=================================================================\n",
            "Total params: 1,129,480\n",
            "Trainable params: 1,125,780\n",
            "Non-trainable params: 3,700\n",
            "_________________________________________________________________\n"
          ],
          "name": "stdout"
        }
      ]
    },
    {
      "cell_type": "code",
      "metadata": {
        "id": "cq-m6QmEHfDU",
        "colab_type": "code",
        "colab": {
          "base_uri": "https://localhost:8080/",
          "height": 106
        },
        "outputId": "1f3f9e97-fa46-4157-e911-a3089f3a4b09"
      },
      "source": [
        "model.compile(optimizer = 'adam', loss = 'categorical_crossentropy', metrics = ['accuracy'])"
      ],
      "execution_count": 8,
      "outputs": [
        {
          "output_type": "stream",
          "text": [
            "W0817 11:21:48.818568 140225311647616 deprecation_wrapper.py:119] From /usr/local/lib/python3.6/dist-packages/keras/optimizers.py:790: The name tf.train.Optimizer is deprecated. Please use tf.compat.v1.train.Optimizer instead.\n",
            "\n",
            "W0817 11:21:48.855422 140225311647616 deprecation_wrapper.py:119] From /usr/local/lib/python3.6/dist-packages/keras/backend/tensorflow_backend.py:3295: The name tf.log is deprecated. Please use tf.math.log instead.\n",
            "\n"
          ],
          "name": "stderr"
        }
      ]
    },
    {
      "cell_type": "code",
      "metadata": {
        "id": "vc7jzvGfJ2yW",
        "colab_type": "code",
        "outputId": "dee9f450-a6ea-4f4b-ce09-a3cb2e603e56",
        "colab": {
          "base_uri": "https://localhost:8080/",
          "height": 1000
        }
      },
      "source": [
        "history = model.fit(X_train, Y_train, batch_size = batch_size, epochs = 30, verbose = 1, validation_data = (X_test, Y_test))"
      ],
      "execution_count": 9,
      "outputs": [
        {
          "output_type": "stream",
          "text": [
            "W0817 11:21:53.543481 140225311647616 deprecation.py:323] From /usr/local/lib/python3.6/dist-packages/tensorflow/python/ops/math_grad.py:1250: add_dispatch_support.<locals>.wrapper (from tensorflow.python.ops.array_ops) is deprecated and will be removed in a future version.\n",
            "Instructions for updating:\n",
            "Use tf.where in 2.0, which has the same broadcast rule as np.where\n"
          ],
          "name": "stderr"
        },
        {
          "output_type": "stream",
          "text": [
            "Train on 60000 samples, validate on 10000 samples\n",
            "Epoch 1/30\n",
            "60000/60000 [==============================] - 23s 377us/step - loss: 0.6808 - acc: 0.7947 - val_loss: 0.2931 - val_acc: 0.9184\n",
            "Epoch 2/30\n",
            "60000/60000 [==============================] - 20s 337us/step - loss: 0.3940 - acc: 0.8846 - val_loss: 0.2274 - val_acc: 0.9371\n",
            "Epoch 3/30\n",
            "60000/60000 [==============================] - 20s 335us/step - loss: 0.3304 - acc: 0.9041 - val_loss: 0.2017 - val_acc: 0.9427\n",
            "Epoch 4/30\n",
            "60000/60000 [==============================] - 20s 334us/step - loss: 0.2892 - acc: 0.9178 - val_loss: 0.2041 - val_acc: 0.9413\n",
            "Epoch 5/30\n",
            "60000/60000 [==============================] - 20s 334us/step - loss: 0.2612 - acc: 0.9254 - val_loss: 0.1608 - val_acc: 0.9561\n",
            "Epoch 6/30\n",
            "60000/60000 [==============================] - 20s 332us/step - loss: 0.2353 - acc: 0.9335 - val_loss: 0.1467 - val_acc: 0.9594\n",
            "Epoch 7/30\n",
            "60000/60000 [==============================] - 20s 335us/step - loss: 0.2145 - acc: 0.9392 - val_loss: 0.1318 - val_acc: 0.9637\n",
            "Epoch 8/30\n",
            "60000/60000 [==============================] - 20s 336us/step - loss: 0.1964 - acc: 0.9445 - val_loss: 0.1228 - val_acc: 0.9665\n",
            "Epoch 9/30\n",
            "60000/60000 [==============================] - 20s 336us/step - loss: 0.1860 - acc: 0.9472 - val_loss: 0.1150 - val_acc: 0.9692\n",
            "Epoch 10/30\n",
            "60000/60000 [==============================] - 20s 335us/step - loss: 0.1728 - acc: 0.9513 - val_loss: 0.1060 - val_acc: 0.9720\n",
            "Epoch 11/30\n",
            "60000/60000 [==============================] - 20s 332us/step - loss: 0.1633 - acc: 0.9539 - val_loss: 0.0974 - val_acc: 0.9735\n",
            "Epoch 12/30\n",
            "60000/60000 [==============================] - 20s 334us/step - loss: 0.1480 - acc: 0.9583 - val_loss: 0.0994 - val_acc: 0.9746\n",
            "Epoch 13/30\n",
            "60000/60000 [==============================] - 20s 338us/step - loss: 0.1444 - acc: 0.9598 - val_loss: 0.0994 - val_acc: 0.9749\n",
            "Epoch 14/30\n",
            "60000/60000 [==============================] - 20s 336us/step - loss: 0.1376 - acc: 0.9614 - val_loss: 0.0971 - val_acc: 0.9742\n",
            "Epoch 15/30\n",
            "60000/60000 [==============================] - 20s 338us/step - loss: 0.1284 - acc: 0.9637 - val_loss: 0.0946 - val_acc: 0.9763\n",
            "Epoch 16/30\n",
            "60000/60000 [==============================] - 20s 334us/step - loss: 0.1225 - acc: 0.9656 - val_loss: 0.0871 - val_acc: 0.9781\n",
            "Epoch 17/30\n",
            "60000/60000 [==============================] - 20s 337us/step - loss: 0.1196 - acc: 0.9666 - val_loss: 0.0840 - val_acc: 0.9778\n",
            "Epoch 18/30\n",
            "60000/60000 [==============================] - 20s 333us/step - loss: 0.1132 - acc: 0.9680 - val_loss: 0.0789 - val_acc: 0.9808\n",
            "Epoch 19/30\n",
            "60000/60000 [==============================] - 20s 337us/step - loss: 0.1137 - acc: 0.9683 - val_loss: 0.0764 - val_acc: 0.9807\n",
            "Epoch 20/30\n",
            "60000/60000 [==============================] - 20s 334us/step - loss: 0.1097 - acc: 0.9696 - val_loss: 0.0805 - val_acc: 0.9794\n",
            "Epoch 21/30\n",
            "60000/60000 [==============================] - 20s 335us/step - loss: 0.1047 - acc: 0.9710 - val_loss: 0.0769 - val_acc: 0.9802\n",
            "Epoch 22/30\n",
            "60000/60000 [==============================] - 20s 334us/step - loss: 0.1008 - acc: 0.9722 - val_loss: 0.0743 - val_acc: 0.9816\n",
            "Epoch 23/30\n",
            "60000/60000 [==============================] - 20s 334us/step - loss: 0.0975 - acc: 0.9733 - val_loss: 0.0733 - val_acc: 0.9811\n",
            "Epoch 24/30\n",
            "60000/60000 [==============================] - 20s 334us/step - loss: 0.0958 - acc: 0.9731 - val_loss: 0.0768 - val_acc: 0.9810\n",
            "Epoch 25/30\n",
            "60000/60000 [==============================] - 20s 336us/step - loss: 0.0924 - acc: 0.9748 - val_loss: 0.0780 - val_acc: 0.9815\n",
            "Epoch 26/30\n",
            "60000/60000 [==============================] - 20s 335us/step - loss: 0.0889 - acc: 0.9748 - val_loss: 0.0713 - val_acc: 0.9833\n",
            "Epoch 27/30\n",
            "60000/60000 [==============================] - 20s 335us/step - loss: 0.0871 - acc: 0.9759 - val_loss: 0.0726 - val_acc: 0.9833\n",
            "Epoch 28/30\n",
            "60000/60000 [==============================] - 20s 334us/step - loss: 0.0843 - acc: 0.9769 - val_loss: 0.0780 - val_acc: 0.9820\n",
            "Epoch 29/30\n",
            "60000/60000 [==============================] - 20s 332us/step - loss: 0.0811 - acc: 0.9767 - val_loss: 0.0715 - val_acc: 0.9835\n",
            "Epoch 30/30\n",
            "60000/60000 [==============================] - 20s 337us/step - loss: 0.0812 - acc: 0.9781 - val_loss: 0.0661 - val_acc: 0.9831\n"
          ],
          "name": "stdout"
        }
      ]
    },
    {
      "cell_type": "markdown",
      "metadata": {
        "id": "tIqDuefpUdeX",
        "colab_type": "text"
      },
      "source": [
        "## Evaluating the Test accuracy and plotting for Train Loss and Validation Loss"
      ]
    },
    {
      "cell_type": "code",
      "metadata": {
        "id": "k5vor75TKMkH",
        "colab_type": "code",
        "outputId": "3440e1ba-1539-4f2c-bbe9-85565e074e2d",
        "colab": {
          "base_uri": "https://localhost:8080/",
          "height": 300
        }
      },
      "source": [
        "\n",
        "score = model.evaluate(X_test, Y_test, verbose=0)\n",
        "print(\"Test accuracy : \"+str(score[1]))\n",
        "\n",
        "%matplotlib inline\n",
        "fig,ax = plt.subplots(1,1)\n",
        "ax.set_xlabel('epoch') ; ax.set_ylabel('Categorical Crossentropy Loss')\n",
        "\n",
        "x = list(range(1,30+1))\n",
        "\n",
        "\n",
        "vy = history.history['val_loss']\n",
        "ty = history.history['loss']\n",
        "plt_dynamic(x, vy, ty, ax)"
      ],
      "execution_count": 16,
      "outputs": [
        {
          "output_type": "stream",
          "text": [
            "Test accuracy : 0.9831\n"
          ],
          "name": "stdout"
        },
        {
          "output_type": "display_data",
          "data": {
            "image/png": "[encoded data removed]",
            "text/plain": [
              "<Figure size 432x288 with 1 Axes>"
            ]
          },
          "metadata": {
            "tags": []
          }
        }
      ]
    },
    {
      "cell_type": "code",
      "metadata": {
        "id": "Wi1sTaBjZb7y",
        "colab_type": "code",
        "colab": {}
      },
      "source": [
        ""
      ],
      "execution_count": 0,
      "outputs": []
    }
  ]
}